{
  "nbformat": 4,
  "nbformat_minor": 0,
  "metadata": {
    "colab": {
      "provenance": [],
      "gpuType": "T4"
    },
    "kernelspec": {
      "name": "python3",
      "display_name": "Python 3"
    },
    "language_info": {
      "name": "python"
    },
    "accelerator": "GPU"
  },
  "cells": [
    {
      "cell_type": "code",
      "execution_count": 1,
      "metadata": {
        "colab": {
          "base_uri": "https://localhost:8080/"
        },
        "id": "ydi3MYlC75a9",
        "outputId": "770e1bc1-0b97-45fa-a1f1-397d3b7d1320"
      },
      "outputs": [
        {
          "output_type": "stream",
          "name": "stdout",
          "text": [
            "Requirement already satisfied: torch in /usr/local/lib/python3.10/dist-packages (2.3.0+cu121)\n",
            "Requirement already satisfied: filelock in /usr/local/lib/python3.10/dist-packages (from torch) (3.14.0)\n",
            "Requirement already satisfied: typing-extensions>=4.8.0 in /usr/local/lib/python3.10/dist-packages (from torch) (4.11.0)\n",
            "Requirement already satisfied: sympy in /usr/local/lib/python3.10/dist-packages (from torch) (1.12)\n",
            "Requirement already satisfied: networkx in /usr/local/lib/python3.10/dist-packages (from torch) (3.3)\n",
            "Requirement already satisfied: jinja2 in /usr/local/lib/python3.10/dist-packages (from torch) (3.1.4)\n",
            "Requirement already satisfied: fsspec in /usr/local/lib/python3.10/dist-packages (from torch) (2023.6.0)\n",
            "Requirement already satisfied: nvidia-cuda-nvrtc-cu12==12.1.105 in /usr/local/lib/python3.10/dist-packages (from torch) (12.1.105)\n",
            "Requirement already satisfied: nvidia-cuda-runtime-cu12==12.1.105 in /usr/local/lib/python3.10/dist-packages (from torch) (12.1.105)\n",
            "Requirement already satisfied: nvidia-cuda-cupti-cu12==12.1.105 in /usr/local/lib/python3.10/dist-packages (from torch) (12.1.105)\n",
            "Requirement already satisfied: nvidia-cudnn-cu12==8.9.2.26 in /usr/local/lib/python3.10/dist-packages (from torch) (8.9.2.26)\n",
            "Requirement already satisfied: nvidia-cublas-cu12==12.1.3.1 in /usr/local/lib/python3.10/dist-packages (from torch) (12.1.3.1)\n",
            "Requirement already satisfied: nvidia-cufft-cu12==11.0.2.54 in /usr/local/lib/python3.10/dist-packages (from torch) (11.0.2.54)\n",
            "Requirement already satisfied: nvidia-curand-cu12==10.3.2.106 in /usr/local/lib/python3.10/dist-packages (from torch) (10.3.2.106)\n",
            "Requirement already satisfied: nvidia-cusolver-cu12==11.4.5.107 in /usr/local/lib/python3.10/dist-packages (from torch) (11.4.5.107)\n",
            "Requirement already satisfied: nvidia-cusparse-cu12==12.1.0.106 in /usr/local/lib/python3.10/dist-packages (from torch) (12.1.0.106)\n",
            "Requirement already satisfied: nvidia-nccl-cu12==2.20.5 in /usr/local/lib/python3.10/dist-packages (from torch) (2.20.5)\n",
            "Requirement already satisfied: nvidia-nvtx-cu12==12.1.105 in /usr/local/lib/python3.10/dist-packages (from torch) (12.1.105)\n",
            "Requirement already satisfied: triton==2.3.0 in /usr/local/lib/python3.10/dist-packages (from torch) (2.3.0)\n",
            "Requirement already satisfied: nvidia-nvjitlink-cu12 in /usr/local/lib/python3.10/dist-packages (from nvidia-cusolver-cu12==11.4.5.107->torch) (12.5.40)\n",
            "Requirement already satisfied: MarkupSafe>=2.0 in /usr/local/lib/python3.10/dist-packages (from jinja2->torch) (2.1.5)\n",
            "Requirement already satisfied: mpmath>=0.19 in /usr/local/lib/python3.10/dist-packages (from sympy->torch) (1.3.0)\n",
            "Requirement already satisfied: transformers in /usr/local/lib/python3.10/dist-packages (4.41.1)\n",
            "Requirement already satisfied: filelock in /usr/local/lib/python3.10/dist-packages (from transformers) (3.14.0)\n",
            "Requirement already satisfied: huggingface-hub<1.0,>=0.23.0 in /usr/local/lib/python3.10/dist-packages (from transformers) (0.23.1)\n",
            "Requirement already satisfied: numpy>=1.17 in /usr/local/lib/python3.10/dist-packages (from transformers) (1.25.2)\n",
            "Requirement already satisfied: packaging>=20.0 in /usr/local/lib/python3.10/dist-packages (from transformers) (24.0)\n",
            "Requirement already satisfied: pyyaml>=5.1 in /usr/local/lib/python3.10/dist-packages (from transformers) (6.0.1)\n",
            "Requirement already satisfied: regex!=2019.12.17 in /usr/local/lib/python3.10/dist-packages (from transformers) (2024.5.15)\n",
            "Requirement already satisfied: requests in /usr/local/lib/python3.10/dist-packages (from transformers) (2.31.0)\n",
            "Requirement already satisfied: tokenizers<0.20,>=0.19 in /usr/local/lib/python3.10/dist-packages (from transformers) (0.19.1)\n",
            "Requirement already satisfied: safetensors>=0.4.1 in /usr/local/lib/python3.10/dist-packages (from transformers) (0.4.3)\n",
            "Requirement already satisfied: tqdm>=4.27 in /usr/local/lib/python3.10/dist-packages (from transformers) (4.66.4)\n",
            "Requirement already satisfied: fsspec>=2023.5.0 in /usr/local/lib/python3.10/dist-packages (from huggingface-hub<1.0,>=0.23.0->transformers) (2023.6.0)\n",
            "Requirement already satisfied: typing-extensions>=3.7.4.3 in /usr/local/lib/python3.10/dist-packages (from huggingface-hub<1.0,>=0.23.0->transformers) (4.11.0)\n",
            "Requirement already satisfied: charset-normalizer<4,>=2 in /usr/local/lib/python3.10/dist-packages (from requests->transformers) (3.3.2)\n",
            "Requirement already satisfied: idna<4,>=2.5 in /usr/local/lib/python3.10/dist-packages (from requests->transformers) (3.7)\n",
            "Requirement already satisfied: urllib3<3,>=1.21.1 in /usr/local/lib/python3.10/dist-packages (from requests->transformers) (2.0.7)\n",
            "Requirement already satisfied: certifi>=2017.4.17 in /usr/local/lib/python3.10/dist-packages (from requests->transformers) (2024.2.2)\n",
            "Requirement already satisfied: numpy in /usr/local/lib/python3.10/dist-packages (1.25.2)\n"
          ]
        }
      ],
      "source": [
        "!pip install torch\n",
        "!pip install transformers\n",
        "!pip install numpy"
      ]
    },
    {
      "cell_type": "code",
      "source": [
        "import requests\n",
        "import torch\n",
        "from transformers import BertTokenizer, BertForSequenceClassification, pipeline\n",
        "from torch.nn.functional import softmax\n",
        "\n",
        "# AI Detector API\n",
        "def ai_detector(generated_text):\n",
        "    gptzero_api_key = ''\n",
        "    url = \"https://api.gptzero.me/v2/predict/text\"\n",
        "    payload = {\"document\": generated_text, \"version\": \"2024-04-04\"}\n",
        "    headers = {\n",
        "        \"x-api-key\": gptzero_api_key,\n",
        "        \"Content-Type\": \"application/json\",\n",
        "        \"Accept\": \"application/json\"\n",
        "    }\n",
        "    response = requests.post(url, json=payload, headers=headers)\n",
        "    if response.status_code == 200:\n",
        "        data = response.json()\n",
        "        if data['documents']:\n",
        "            class_probabilities = data['documents'][0]['class_probabilities']\n",
        "            return class_probabilities\n",
        "        else:\n",
        "            return {'ai': 0, 'human': 0, 'mixed': 0}\n",
        "    else:\n",
        "        return {'ai': 0, 'human': 0, 'mixed': 0}\n",
        "\n",
        "# Load pre-trained models\n",
        "tokenizer = BertTokenizer.from_pretrained('bert-base-uncased')\n",
        "detector_model = BertForSequenceClassification.from_pretrained('bert-base-uncased')\n",
        "mlm_model = pipeline(\"fill-mask\", model=\"bert-base-uncased\")\n",
        "\n",
        "# Compute gradients for word importance\n",
        "def compute_gradients(text, model, tokenizer):\n",
        "    inputs = tokenizer(text, return_tensors='pt', truncation=True, padding=True)\n",
        "    # Convert input IDs to embeddings\n",
        "    embeddings = model.bert.embeddings.word_embeddings(inputs['input_ids'])\n",
        "    embeddings.retain_grad()  # Retain gradients for embeddings\n",
        "    outputs = model(inputs_embeds=embeddings, attention_mask=inputs['attention_mask'])\n",
        "    loss = torch.nn.CrossEntropyLoss()(outputs.logits, torch.tensor([1]).to(outputs.logits.device))  # Ensure target tensor is on the same device\n",
        "    loss.backward()\n",
        "    gradients = embeddings.grad\n",
        "    return gradients\n",
        "\n",
        "# Calculate word importance scores\n",
        "def calculate_word_importance(gradients, tokenizer, input_ids):\n",
        "    token_importance = gradients.abs().sum(dim=-1).squeeze().cpu().numpy()\n",
        "    tokens = tokenizer.convert_ids_to_tokens(input_ids.squeeze().cpu().numpy())\n",
        "    return dict(zip(tokens, token_importance))\n",
        "\n",
        "# Generate adversarial example\n",
        "def generate_adversarial_example(text, importance_scores, mlm_model, num_replacements=5):\n",
        "    tokens = tokenizer.tokenize(text)\n",
        "    sorted_importance = sorted(importance_scores.items(), key=lambda x: x[1], reverse=True)\n",
        "    top_tokens = [word for word, _ in sorted_importance[:num_replacements]]\n",
        "\n",
        "    # Replace only non-special tokens\n",
        "    for token in top_tokens:\n",
        "        if token in tokens:\n",
        "            mask_index = tokens.index(token)\n",
        "            tokens[mask_index] = tokenizer.mask_token\n",
        "            masked_text = tokenizer.convert_tokens_to_string(tokens)\n",
        "            suggestions = mlm_model(masked_text)\n",
        "            best_replacement = suggestions[0]['token_str']\n",
        "            tokens[mask_index] = best_replacement\n",
        "\n",
        "    return tokenizer.convert_tokens_to_string(tokens)\n",
        "\n",
        "# Main script\n",
        "text = \"Biodiversity is vital for ecosystem health and stability, providing resilience against environmental changes and supporting a wide range of ecosystem services. It ensures food security, medicinal resources, and maintains natural cycles, contributing to overall planetary well-being.\"\n",
        "gradients = compute_gradients(text, detector_model, tokenizer)\n",
        "input_ids = tokenizer(text, return_tensors='pt')['input_ids']\n",
        "importance_scores = calculate_word_importance(gradients, tokenizer, input_ids)\n",
        "\n",
        "# Generate adversarial example\n",
        "adversarial_example = generate_adversarial_example(text, importance_scores, mlm_model)\n",
        "\n",
        "# Evaluate original and adversarial examples using the AI detector API\n",
        "original_score = ai_detector(generated_text=text)\n",
        "adversarial_score = ai_detector(generated_text=adversarial_example)\n",
        "\n",
        "print(\"Original Text:\", text)\n",
        "print(\"Original Score:\", original_score)\n",
        "print(\"Adversarial Text:\", adversarial_example)\n",
        "print(\"Adversarial Score:\", adversarial_score)"
      ],
      "metadata": {
        "colab": {
          "base_uri": "https://localhost:8080/"
        },
        "id": "kke2m3Uu78Va",
        "outputId": "efb75927-7a8c-4d24-d255-89a56a223d82"
      },
      "execution_count": 16,
      "outputs": [
        {
          "output_type": "stream",
          "name": "stderr",
          "text": [
            "Some weights of BertForSequenceClassification were not initialized from the model checkpoint at bert-base-uncased and are newly initialized: ['classifier.bias', 'classifier.weight']\n",
            "You should probably TRAIN this model on a down-stream task to be able to use it for predictions and inference.\n",
            "Some weights of the model checkpoint at bert-base-uncased were not used when initializing BertForMaskedLM: ['bert.pooler.dense.bias', 'bert.pooler.dense.weight', 'cls.seq_relationship.bias', 'cls.seq_relationship.weight']\n",
            "- This IS expected if you are initializing BertForMaskedLM from the checkpoint of a model trained on another task or with another architecture (e.g. initializing a BertForSequenceClassification model from a BertForPreTraining model).\n",
            "- This IS NOT expected if you are initializing BertForMaskedLM from the checkpoint of a model that you expect to be exactly identical (initializing a BertForSequenceClassification model from a BertForSequenceClassification model).\n"
          ]
        },
        {
          "output_type": "stream",
          "name": "stdout",
          "text": [
            "Original Text: Biodiversity is vital for ecosystem health and stability, providing resilience against environmental changes and supporting a wide range of ecosystem services. It ensures food security, medicinal resources, and maintains natural cycles, contributing to overall planetary well-being.\n",
            "Original Score: {'ai': 1, 'human': 0, 'mixed': 0}\n",
            "Adversarial Text: it is responsible for maintaining health and stability , providing resilience against environmental changes and supporting a wide range of ecosystem services . it ensures food security , medicinal resources , and maintains natural cycles , contributing to overall human well - being .\n",
            "Adversarial Score: {'ai': 0.4200164068908942, 'human': 0.5225594749794913, 'mixed': 0.05742411812961444}\n"
          ]
        }
      ]
    }
  ]
}